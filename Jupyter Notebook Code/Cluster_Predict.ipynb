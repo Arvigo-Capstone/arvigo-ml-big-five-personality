{
  "nbformat": 4,
  "nbformat_minor": 0,
  "metadata": {
    "colab": {
      "provenance": []
    },
    "kernelspec": {
      "name": "python3",
      "display_name": "Python 3"
    },
    "language_info": {
      "name": "python"
    }
  },
  "cells": [
    {
      "cell_type": "code",
      "execution_count": null,
      "metadata": {
        "id": "eDfN9LY4Cync"
      },
      "outputs": [],
      "source": [
        "import json\n",
        "import random\n",
        "import joblib\n",
        "import pandas as pd\n",
        "\n",
        "from joblib import load\n",
        "from google.colab import drive"
      ]
    },
    {
      "cell_type": "code",
      "source": [
        "# Mount Google Drive to access dataset\n",
        "drive.mount('/content/drive', force_remount=True)\n",
        "\n",
        "# Set up directory path\n",
        "file_path = '/content/drive/MyDrive/model_kmeans.joblib'"
      ],
      "metadata": {
        "colab": {
          "base_uri": "https://localhost:8080/"
        },
        "id": "v31sH31hFhpx",
        "outputId": "3dd0b269-9a30-4138-dc22-d4224a144f41"
      },
      "execution_count": null,
      "outputs": [
        {
          "output_type": "stream",
          "name": "stdout",
          "text": [
            "Mounted at /content/drive\n"
          ]
        }
      ]
    },
    {
      "cell_type": "code",
      "source": [
        "# membuat dictionary yang akan dijadikan file JSON\n",
        "data = {\n",
        "  \"EXT1\": random.randint(1,5),\"EXT2\": random.randint(1,5),\"EXT3\": random.randint(1,5),\"EXT4\": random.randint(1,5),\"EXT5\": random.randint(1,5),\"EXT6\": random.randint(1,5),\"EXT7\": random.randint(1,5),\"EXT8\": random.randint(1,5),\"EXT9\": random.randint(1,5),\"EXT10\": random.randint(1,5),\n",
        "  \"EST1\": random.randint(1,5),\"EST2\": random.randint(1,5),\"EST3\": random.randint(1,5),\"EST4\": random.randint(1,5),\"EST5\": random.randint(1,5),\"EST6\": random.randint(1,5),\"EST7\": random.randint(1,5),\"EST8\": random.randint(1,5),\"EST9\": random.randint(1,5),\"EST10\": random.randint(1,5),\n",
        "  \"AGR1\": random.randint(1,5),\"AGR2\": random.randint(1,5),\"AGR3\": random.randint(1,5),\"AGR4\": random.randint(1,5),\"AGR5\": random.randint(1,5),\"AGR6\": random.randint(1,5),\"AGR7\": random.randint(1,5),\"AGR8\": random.randint(1,5),\"AGR9\": random.randint(1,5),\"AGR10\": random.randint(1,5),\n",
        "  \"CSN1\": random.randint(1,5),\"CSN2\": random.randint(1,5),\"CSN3\": random.randint(1,5),\"CSN4\": random.randint(1,5),\"CSN5\": random.randint(1,5),\"CSN6\": random.randint(1,5),\"CSN7\": random.randint(1,5),\"CSN8\": random.randint(1,5),\"CSN9\": random.randint(1,5),\"CSN10\": random.randint(1,5),\n",
        "  \"OPN1\": random.randint(1,5),\"OPN2\": random.randint(1,5),\"OPN3\": random.randint(1,5),\"OPN4\": random.randint(1,5),\"OPN5\": random.randint(1,5),\"OPN6\": random.randint(1,5),\"OPN7\": random.randint(1,5),\"OPN8\": random.randint(1,5),\"OPN9\": random.randint(1,5),\"OPN10\": random.randint(1,5)\n",
        "}\n",
        "\n",
        "# membuka file baru dengan mode write\n",
        "with open('file.json', 'w') as f:\n",
        "    # menuliskan data ke file JSON\n",
        "    json.dump(data, f)\n"
      ],
      "metadata": {
        "id": "hG4l1zbqDAeX"
      },
      "execution_count": null,
      "outputs": []
    },
    {
      "cell_type": "code",
      "source": [
        "with open('file.json') as f:\n",
        "    data = json.load(f)\n",
        "    \n",
        "# Mengubah dictionary menjadi DataFrame dan mengubah orientasi DataFrame menjadi format yang diinginkan\n",
        "df = pd.DataFrame(data, index=[0])\n",
        "df.head(20)"
      ],
      "metadata": {
        "colab": {
          "base_uri": "https://localhost:8080/",
          "height": 110
        },
        "id": "fa-Gf3uzFw5b",
        "outputId": "7c60c3b5-e1f6-4333-fdca-63b3bea989a2"
      },
      "execution_count": null,
      "outputs": [
        {
          "output_type": "execute_result",
          "data": {
            "text/plain": [
              "   EXT1  EXT2  EXT3  EXT4  EXT5  EXT6  EXT7  EXT8  EXT9  EXT10  ...  OPN1  \\\n",
              "0     4     4     4     4     4     4     2     1     4      3  ...     3   \n",
              "\n",
              "   OPN2  OPN3  OPN4  OPN5  OPN6  OPN7  OPN8  OPN9  OPN10  \n",
              "0     5     3     5     4     4     5     5     1      5  \n",
              "\n",
              "[1 rows x 50 columns]"
            ],
            "text/html": [
              "\n",
              "  <div id=\"df-ead4db7e-1ab2-4126-ab8e-24e2b47134e0\">\n",
              "    <div class=\"colab-df-container\">\n",
              "      <div>\n",
              "<style scoped>\n",
              "    .dataframe tbody tr th:only-of-type {\n",
              "        vertical-align: middle;\n",
              "    }\n",
              "\n",
              "    .dataframe tbody tr th {\n",
              "        vertical-align: top;\n",
              "    }\n",
              "\n",
              "    .dataframe thead th {\n",
              "        text-align: right;\n",
              "    }\n",
              "</style>\n",
              "<table border=\"1\" class=\"dataframe\">\n",
              "  <thead>\n",
              "    <tr style=\"text-align: right;\">\n",
              "      <th></th>\n",
              "      <th>EXT1</th>\n",
              "      <th>EXT2</th>\n",
              "      <th>EXT3</th>\n",
              "      <th>EXT4</th>\n",
              "      <th>EXT5</th>\n",
              "      <th>EXT6</th>\n",
              "      <th>EXT7</th>\n",
              "      <th>EXT8</th>\n",
              "      <th>EXT9</th>\n",
              "      <th>EXT10</th>\n",
              "      <th>...</th>\n",
              "      <th>OPN1</th>\n",
              "      <th>OPN2</th>\n",
              "      <th>OPN3</th>\n",
              "      <th>OPN4</th>\n",
              "      <th>OPN5</th>\n",
              "      <th>OPN6</th>\n",
              "      <th>OPN7</th>\n",
              "      <th>OPN8</th>\n",
              "      <th>OPN9</th>\n",
              "      <th>OPN10</th>\n",
              "    </tr>\n",
              "  </thead>\n",
              "  <tbody>\n",
              "    <tr>\n",
              "      <th>0</th>\n",
              "      <td>4</td>\n",
              "      <td>4</td>\n",
              "      <td>4</td>\n",
              "      <td>4</td>\n",
              "      <td>4</td>\n",
              "      <td>4</td>\n",
              "      <td>2</td>\n",
              "      <td>1</td>\n",
              "      <td>4</td>\n",
              "      <td>3</td>\n",
              "      <td>...</td>\n",
              "      <td>3</td>\n",
              "      <td>5</td>\n",
              "      <td>3</td>\n",
              "      <td>5</td>\n",
              "      <td>4</td>\n",
              "      <td>4</td>\n",
              "      <td>5</td>\n",
              "      <td>5</td>\n",
              "      <td>1</td>\n",
              "      <td>5</td>\n",
              "    </tr>\n",
              "  </tbody>\n",
              "</table>\n",
              "<p>1 rows × 50 columns</p>\n",
              "</div>\n",
              "      <button class=\"colab-df-convert\" onclick=\"convertToInteractive('df-ead4db7e-1ab2-4126-ab8e-24e2b47134e0')\"\n",
              "              title=\"Convert this dataframe to an interactive table.\"\n",
              "              style=\"display:none;\">\n",
              "        \n",
              "  <svg xmlns=\"http://www.w3.org/2000/svg\" height=\"24px\"viewBox=\"0 0 24 24\"\n",
              "       width=\"24px\">\n",
              "    <path d=\"M0 0h24v24H0V0z\" fill=\"none\"/>\n",
              "    <path d=\"M18.56 5.44l.94 2.06.94-2.06 2.06-.94-2.06-.94-.94-2.06-.94 2.06-2.06.94zm-11 1L8.5 8.5l.94-2.06 2.06-.94-2.06-.94L8.5 2.5l-.94 2.06-2.06.94zm10 10l.94 2.06.94-2.06 2.06-.94-2.06-.94-.94-2.06-.94 2.06-2.06.94z\"/><path d=\"M17.41 7.96l-1.37-1.37c-.4-.4-.92-.59-1.43-.59-.52 0-1.04.2-1.43.59L10.3 9.45l-7.72 7.72c-.78.78-.78 2.05 0 2.83L4 21.41c.39.39.9.59 1.41.59.51 0 1.02-.2 1.41-.59l7.78-7.78 2.81-2.81c.8-.78.8-2.07 0-2.86zM5.41 20L4 18.59l7.72-7.72 1.47 1.35L5.41 20z\"/>\n",
              "  </svg>\n",
              "      </button>\n",
              "      \n",
              "  <style>\n",
              "    .colab-df-container {\n",
              "      display:flex;\n",
              "      flex-wrap:wrap;\n",
              "      gap: 12px;\n",
              "    }\n",
              "\n",
              "    .colab-df-convert {\n",
              "      background-color: #E8F0FE;\n",
              "      border: none;\n",
              "      border-radius: 50%;\n",
              "      cursor: pointer;\n",
              "      display: none;\n",
              "      fill: #1967D2;\n",
              "      height: 32px;\n",
              "      padding: 0 0 0 0;\n",
              "      width: 32px;\n",
              "    }\n",
              "\n",
              "    .colab-df-convert:hover {\n",
              "      background-color: #E2EBFA;\n",
              "      box-shadow: 0px 1px 2px rgba(60, 64, 67, 0.3), 0px 1px 3px 1px rgba(60, 64, 67, 0.15);\n",
              "      fill: #174EA6;\n",
              "    }\n",
              "\n",
              "    [theme=dark] .colab-df-convert {\n",
              "      background-color: #3B4455;\n",
              "      fill: #D2E3FC;\n",
              "    }\n",
              "\n",
              "    [theme=dark] .colab-df-convert:hover {\n",
              "      background-color: #434B5C;\n",
              "      box-shadow: 0px 1px 3px 1px rgba(0, 0, 0, 0.15);\n",
              "      filter: drop-shadow(0px 1px 2px rgba(0, 0, 0, 0.3));\n",
              "      fill: #FFFFFF;\n",
              "    }\n",
              "  </style>\n",
              "\n",
              "      <script>\n",
              "        const buttonEl =\n",
              "          document.querySelector('#df-ead4db7e-1ab2-4126-ab8e-24e2b47134e0 button.colab-df-convert');\n",
              "        buttonEl.style.display =\n",
              "          google.colab.kernel.accessAllowed ? 'block' : 'none';\n",
              "\n",
              "        async function convertToInteractive(key) {\n",
              "          const element = document.querySelector('#df-ead4db7e-1ab2-4126-ab8e-24e2b47134e0');\n",
              "          const dataTable =\n",
              "            await google.colab.kernel.invokeFunction('convertToInteractive',\n",
              "                                                     [key], {});\n",
              "          if (!dataTable) return;\n",
              "\n",
              "          const docLinkHtml = 'Like what you see? Visit the ' +\n",
              "            '<a target=\"_blank\" href=https://colab.research.google.com/notebooks/data_table.ipynb>data table notebook</a>'\n",
              "            + ' to learn more about interactive tables.';\n",
              "          element.innerHTML = '';\n",
              "          dataTable['output_type'] = 'display_data';\n",
              "          await google.colab.output.renderOutput(dataTable, element);\n",
              "          const docLink = document.createElement('div');\n",
              "          docLink.innerHTML = docLinkHtml;\n",
              "          element.appendChild(docLink);\n",
              "        }\n",
              "      </script>\n",
              "    </div>\n",
              "  </div>\n",
              "  "
            ]
          },
          "metadata": {},
          "execution_count": 25
        }
      ]
    },
    {
      "cell_type": "code",
      "source": [
        "kmeans_model = joblib.load(file_path)\n",
        "cluster_labels = int(kmeans_model.predict(df))"
      ],
      "metadata": {
        "id": "1r6MmXwdGRnZ"
      },
      "execution_count": null,
      "outputs": []
    },
    {
      "cell_type": "code",
      "source": [
        "print(cluster_labels)"
      ],
      "metadata": {
        "colab": {
          "base_uri": "https://localhost:8080/"
        },
        "id": "047uEHRwI2-5",
        "outputId": "85d39692-8234-4ed4-e136-70f92393c2f9"
      },
      "execution_count": null,
      "outputs": [
        {
          "output_type": "stream",
          "name": "stdout",
          "text": [
            "4\n"
          ]
        }
      ]
    }
  ]
}